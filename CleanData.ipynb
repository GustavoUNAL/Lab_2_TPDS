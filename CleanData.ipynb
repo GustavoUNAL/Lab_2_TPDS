{
 "cells": [
  {
   "cell_type": "markdown",
   "metadata": {},
   "source": [
    "# Read CSV S10_RUN\n"
   ]
  },
  {
   "cell_type": "code",
   "execution_count": 16,
   "metadata": {},
   "outputs": [],
   "source": [
    "# read csv \n",
    "import pandas as pd\n",
    "\n",
    "# Cargar los datos desde un archivo CSV\n",
    "df = pd.read_csv('raw/s10_run.csv', sep=',')\n",
    "\n",
    "\n"
   ]
  },
  {
   "cell_type": "code",
   "execution_count": 17,
   "metadata": {},
   "outputs": [],
   "source": [
    "# Convert 'time' column to datetime format\n",
    "df['time'] = pd.to_datetime(df['time'])\n",
    "\n",
    "# Create new 'date' and 'time' columns\n",
    "df['date'] = df['time'].dt.date\n",
    "df['time'] = df['time'].dt.time"
   ]
  },
  {
   "cell_type": "code",
   "execution_count": 19,
   "metadata": {},
   "outputs": [],
   "source": [
    "# Create a new DataFrame with selected columns\n",
    "df_new = df[['time', 'ecg', 'pleth_3', 'a_y']]"
   ]
  },
  {
   "cell_type": "code",
   "execution_count": 20,
   "metadata": {},
   "outputs": [
    {
     "name": "stdout",
     "output_type": "stream",
     "text": [
      "              time    ecg  pleth_3       a_y\n",
      "0  11:22:48.305804  33664     3164 -6.802872\n",
      "1  11:22:48.307804  33866     3164 -6.833998\n",
      "2  11:22:48.309804  34155     3181 -6.848364\n",
      "3  11:22:48.311804  34366     3175 -6.848364\n",
      "4  11:22:48.313804  34538     3186 -6.873505\n"
     ]
    }
   ],
   "source": [
    "# Mostrar las primeras filas del DataFrame\n",
    "print(df_new.head())"
   ]
  },
  {
   "cell_type": "code",
   "execution_count": 34,
   "metadata": {},
   "outputs": [],
   "source": [
    "# Save DataFrame to a new CSV file\n",
    "df_new.to_csv('clean/s10_run_clean.csv', index=False)"
   ]
  }
 ],
 "metadata": {
  "kernelspec": {
   "display_name": "Python 3",
   "language": "python",
   "name": "python3"
  },
  "language_info": {
   "codemirror_mode": {
    "name": "ipython",
    "version": 3
   },
   "file_extension": ".py",
   "mimetype": "text/x-python",
   "name": "python",
   "nbconvert_exporter": "python",
   "pygments_lexer": "ipython3",
   "version": "3.11.7"
  }
 },
 "nbformat": 4,
 "nbformat_minor": 2
}
